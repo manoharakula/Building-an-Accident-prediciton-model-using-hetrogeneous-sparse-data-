{
  "nbformat": 4,
  "nbformat_minor": 0,
  "metadata": {
    "accelerator": "TPU",
    "colab": {
      "name": "Neural_Networks (1).ipynb",
      "provenance": [],
      "collapsed_sections": [],
      "machine_shape": "hm"
    },
    "kernelspec": {
      "display_name": "Python 3",
      "language": "python",
      "name": "python3"
    },
    "language_info": {
      "codemirror_mode": {
        "name": "ipython",
        "version": 3
      },
      "file_extension": ".py",
      "mimetype": "text/x-python",
      "name": "python",
      "nbconvert_exporter": "python",
      "pygments_lexer": "ipython3",
      "version": "3.8.8"
    }
  },
  "cells": [
    {
      "cell_type": "code",
      "metadata": {
        "id": "3RkcRnVIXkH1"
      },
      "source": [
        "from google.colab import drive\n",
        "drive.mount('/content/drive')"
      ],
      "execution_count": null,
      "outputs": []
    },
    {
      "cell_type": "code",
      "metadata": {
        "id": "smHJXOQ9Xo3v"
      },
      "source": [
        "import numpy as np\n",
        "import pandas as pd\n",
        "import matplotlib.pyplot as plt\n",
        "import seaborn as sns\n",
        "import datetime\n",
        "%matplotlib inline\n",
        "from mpl_toolkits.mplot3d import Axes3D\n",
        "from sklearn.preprocessing import StandardScaler"
      ],
      "execution_count": null,
      "outputs": []
    },
    {
      "cell_type": "code",
      "metadata": {
        "id": "cWb9XjzJX5N5"
      },
      "source": [
        "df = pd.read_csv('/content/drive/MyDrive/US_Accidents_Dec20_updated.csv')"
      ],
      "execution_count": null,
      "outputs": []
    },
    {
      "cell_type": "code",
      "metadata": {
        "id": "57YckfL3X8xM"
      },
      "source": [
        "df.columns"
      ],
      "execution_count": null,
      "outputs": []
    },
    {
      "cell_type": "code",
      "metadata": {
        "id": "k01SUYvDYkg9"
      },
      "source": [
        "df.info()"
      ],
      "execution_count": null,
      "outputs": []
    },
    {
      "cell_type": "code",
      "metadata": {
        "id": "knb_6BYJYrfA"
      },
      "source": [
        "df.nunique()"
      ],
      "execution_count": null,
      "outputs": []
    },
    {
      "cell_type": "code",
      "metadata": {
        "id": "rpiHS0W7Y083"
      },
      "source": [
        "df.head()"
      ],
      "execution_count": null,
      "outputs": []
    },
    {
      "cell_type": "code",
      "metadata": {
        "id": "Q6Qb5Zw3ZFwA"
      },
      "source": [
        "df.Severity.value_counts(normalize=True).sort_index().plot.bar()\n",
        "plt.grid()\n",
        "plt.title('Severity')\n",
        "plt.xlabel('Severity')\n",
        "plt.ylabel('Fraction');"
      ],
      "execution_count": null,
      "outputs": []
    },
    {
      "cell_type": "code",
      "metadata": {
        "id": "TcSTIMz6ZZri"
      },
      "source": [
        "bool_cols = [col for col in df.columns if df[col].dtype ==np.dtype('bool')]\n",
        "booldf = df[bool_cols]\n",
        "not_one_hot = booldf[booldf.sum(axis=1) > 1]\n",
        "print('There are {} non one hot metadata rows, which are {:.1f}% of the data'.format(len(not_one_hot),100*len(not_one_hot)/len(df)))"
      ],
      "execution_count": null,
      "outputs": []
    },
    {
      "cell_type": "code",
      "metadata": {
        "id": "kPcOFXQUZgS6"
      },
      "source": [
        "bools = booldf.sum(axis=0)"
      ],
      "execution_count": null,
      "outputs": []
    },
    {
      "cell_type": "code",
      "metadata": {
        "id": "3hCmMjaSZg4-"
      },
      "source": [
        "bools.plot.pie(figsize=(13,13))\n",
        "plt.ylabel('')\n",
        "plt.title('Proximity to Traffic Object');"
      ],
      "execution_count": null,
      "outputs": []
    },
    {
      "cell_type": "code",
      "metadata": {
        "id": "fzx6qPEOZlvv"
      },
      "source": [
        "st = pd.to_datetime(df.Start_Time, format='%Y-%m-%d %H:%M:%S')\n",
        "end = pd.to_datetime(df.End_Time, format='%Y-%m-%d %H:%M:%S')"
      ],
      "execution_count": null,
      "outputs": []
    },
    {
      "cell_type": "code",
      "metadata": {
        "id": "9YU_FBHCZpFf"
      },
      "source": [
        "diff = (end-st)\n",
        "top20 = diff.astype('timedelta64[m]').value_counts().nlargest(20)\n",
        "print('top 20 accident durations correspond to {:.1f}% of the data'.format(top20.sum()*100/len(diff)))\n",
        "(top20/top20.sum()).plot.bar(figsize=(14,14))\n",
        "plt.title('Accident Duration [Minutes]')\n",
        "plt.xlabel('Duration [minutes]')\n",
        "plt.ylabel('Fraction');"
      ],
      "execution_count": null,
      "outputs": []
    },
    {
      "cell_type": "code",
      "metadata": {
        "id": "WtXmwkqjZugS"
      },
      "source": [
        "df['time'] = pd.to_datetime(df.Start_Time, format='%Y-%m-%d %H:%M:%S')\n",
        "df = df.set_index('time')\n",
        "df.head()"
      ],
      "execution_count": null,
      "outputs": []
    },
    {
      "cell_type": "code",
      "metadata": {
        "id": "34-ebzTJZx2p"
      },
      "source": [
        "freq_text = {'D':'Daily','W':'Weekly','Y':'Yearly'}\n",
        "plt.subplots(1,3,figsize=(21,7))\n",
        "for i, (fr,text) in enumerate(freq_text.items(),1):\n",
        "    plt.subplot(1,3,i)\n",
        "    sample = df.ID['2016':].resample(fr).count()\n",
        "    sample.plot(style='.')\n",
        "    plt.title('Accidents, {} count'.format(text))\n",
        "    plt.xlabel('Date')\n",
        "    plt.ylabel('Accident Count');"
      ],
      "execution_count": null,
      "outputs": []
    },
    {
      "cell_type": "code",
      "metadata": {
        "id": "6DhaaLriZ0jq"
      },
      "source": [
        "years = ['2016','2017','2018']\n",
        "fig, _ = plt.subplots(1,3,figsize=(21,7), sharex='all', sharey='all')\n",
        "\n",
        "fig.suptitle('Accidents by month for Different Years')\n",
        "plt.xlabel('month')\n",
        "plt.ylabel('Accidents')\n",
        "for i, year in enumerate(years,1):\n",
        "    plt.subplot(1,3,i)\n",
        "    sample = df.loc[year].ID.resample('M').count()\n",
        "    sample.plot()\n",
        "    plt.ylim(0,100000)\n",
        "    plt.title('Accidents, {} count'.format(text))\n",
        "    plt.xlabel('Date')\n",
        "    plt.ylabel('Accident Count');"
      ],
      "execution_count": null,
      "outputs": []
    },
    {
      "cell_type": "code",
      "metadata": {
        "id": "PrZV7vusZ3wU"
      },
      "source": [
        "df['Weekday'] = df.index.day_name()\n",
        "weekday = df.groupby('Weekday').ID.count()\n",
        "weekday = weekday/weekday.sum()\n",
        "dayOfWeek=['Monday','Tuesday','Wednesday','Thursday','Friday','Saturday','Sunday']\n",
        "weekday[dayOfWeek].plot.bar()\n",
        "plt.title('Accidents by Weekday')\n",
        "plt.xlabel('Weekday')\n",
        "plt.ylabel('Accidents');"
      ],
      "execution_count": null,
      "outputs": []
    },
    {
      "cell_type": "code",
      "metadata": {
        "id": "grqg9zH4Z6yn"
      },
      "source": [
        "years = ['2016','2017','2018']\n",
        "fig, _ = plt.subplots(1,3,figsize=(21,7), sharex='all', sharey='all')\n",
        "\n",
        "fig.suptitle('Accidents by Weekday for Different Years')\n",
        "plt.xlabel('Weekday')\n",
        "plt.ylabel('Accidents')\n",
        "for i, year in enumerate(years,1):\n",
        "    weekday = df.loc[year].groupby('Weekday').ID.count()\n",
        "    weekday = weekday/weekday.sum()\n",
        "    dayOfWeek=['Monday','Tuesday','Wednesday','Thursday','Friday','Saturday','Sunday']\n",
        "    plt.subplot(1,3,i)\n",
        "    plt.title(year)\n",
        "    weekday[dayOfWeek].plot.bar()"
      ],
      "execution_count": null,
      "outputs": []
    },
    {
      "cell_type": "code",
      "metadata": {
        "id": "yyAefGB-aDwZ"
      },
      "source": [
        "def plotCorrelationMatrix(df, graphWidth):\n",
        "    df = df.dropna('columns') # drop columns with NaN\n",
        "    df = df[[col for col in df if df[col].nunique() > 1]] # keep columns where there are more than 1 unique values\n",
        "    if df.shape[1] < 2:\n",
        "        print(f'No correlation plots shown: The number of non-NaN or constant columns ({df.shape[1]}) is less than 2')\n",
        "        return\n",
        "    corr = df.corr()\n",
        "    plt.figure(num=None, figsize=(graphWidth, graphWidth), dpi=80, facecolor='w', edgecolor='k')\n",
        "    corrMat = plt.matshow(corr, fignum = 1)\n",
        "    plt.xticks(range(len(corr.columns)), corr.columns, rotation=90)\n",
        "    plt.yticks(range(len(corr.columns)), corr.columns)\n",
        "    plt.gca().xaxis.tick_bottom()\n",
        "    plt.colorbar(corrMat)\n",
        "    plt.title('Correlation Matrix, fontsize=15')\n",
        "    plt.show()"
      ],
      "execution_count": null,
      "outputs": []
    },
    {
      "cell_type": "code",
      "metadata": {
        "id": "xa6QFFQSaIzL"
      },
      "source": [
        "plotCorrelationMatrix(df, 8)"
      ],
      "execution_count": null,
      "outputs": []
    },
    {
      "cell_type": "code",
      "metadata": {
        "id": "L_IrqB1chjtm"
      },
      "source": [
        "df.groupby('State') \\\n",
        "        .size() \\\n",
        "        .iloc[:10] \\\n",
        "        .sort_values(ascending=False) \\\n",
        "        .plot.bar()"
      ],
      "execution_count": null,
      "outputs": []
    },
    {
      "cell_type": "code",
      "metadata": {
        "id": "qDijW7SgaMyn"
      },
      "source": [
        "df1 = df"
      ],
      "execution_count": null,
      "outputs": []
    },
    {
      "cell_type": "code",
      "metadata": {
        "id": "pILyby0sdO1i"
      },
      "source": [
        "df1.isnull().sum()"
      ],
      "execution_count": null,
      "outputs": []
    },
    {
      "cell_type": "code",
      "metadata": {
        "id": "YvjUFE15juWZ"
      },
      "source": [
        "df1.head(5)"
      ],
      "execution_count": null,
      "outputs": []
    },
    {
      "cell_type": "code",
      "metadata": {
        "id": "Lk83i5QcaWIQ"
      },
      "source": [
        "df1 = df1.drop(['Distance(mi)', 'Country', 'Description', 'City', 'County', 'Street', 'Side', 'Zipcode', 'State', 'Airport_Code', 'Civil_Twilight', 'Nautical_Twilight', 'Astronomical_Twilight'], axis=1)"
      ],
      "execution_count": null,
      "outputs": []
    },
    {
      "cell_type": "code",
      "metadata": {
        "id": "0gZbzXWiawYj"
      },
      "source": [
        "df1.head()"
      ],
      "execution_count": null,
      "outputs": []
    },
    {
      "cell_type": "code",
      "metadata": {
        "id": "NiYb8_ofaSCu"
      },
      "source": [
        "cols = [\"End_Lat\", \"End_Lng\", \"Number\"]\n",
        "df1 = df1.drop(cols, axis=1)"
      ],
      "execution_count": null,
      "outputs": []
    },
    {
      "cell_type": "code",
      "metadata": {
        "id": "EHzfonACaUD9"
      },
      "source": [
        "df1.isnull().sum()"
      ],
      "execution_count": null,
      "outputs": []
    },
    {
      "cell_type": "code",
      "metadata": {
        "id": "0mXUAoJLaY74"
      },
      "source": [
        "pmean = df1['Pressure(in)'].mean()\n",
        "tmean = df1['Temperature(F)'].mean()\n",
        "wcmean = df1['Wind_Chill(F)'].mean()\n",
        "hmean = df1['Humidity(%)'].mean()\n",
        "wsmean = df1['Wind_Speed(mph)'].mean()\n",
        "prmean = df1['Precipitation(in)'].mean()"
      ],
      "execution_count": null,
      "outputs": []
    },
    {
      "cell_type": "code",
      "metadata": {
        "id": "23IqeHtw_mbW"
      },
      "source": [
        "df1['Pressure(in)']=df1['Pressure(in)'].fillna(pmean)"
      ],
      "execution_count": null,
      "outputs": []
    },
    {
      "cell_type": "code",
      "metadata": {
        "id": "6lNEUP2f_3tW"
      },
      "source": [
        "df1['Temperature(F)'] = df1['Temperature(F)'].fillna(tmean)"
      ],
      "execution_count": null,
      "outputs": []
    },
    {
      "cell_type": "code",
      "metadata": {
        "id": "ay9E2rdZ_63c"
      },
      "source": [
        "df1['Wind_Chill(F)'] = df1['Wind_Chill(F)'].fillna(wcmean)"
      ],
      "execution_count": null,
      "outputs": []
    },
    {
      "cell_type": "code",
      "metadata": {
        "id": "Wh6M8cNC_7Ot"
      },
      "source": [
        "df1['Humidity(%)'] = df1['Humidity(%)'].fillna(hmean)"
      ],
      "execution_count": null,
      "outputs": []
    },
    {
      "cell_type": "code",
      "metadata": {
        "id": "NNoZgpj0Aaz2"
      },
      "source": [
        "df1['Wind_Speed(mph)'] = df1['Wind_Speed(mph)'].fillna(wsmean)"
      ],
      "execution_count": null,
      "outputs": []
    },
    {
      "cell_type": "code",
      "metadata": {
        "id": "MqMLI_93Abry"
      },
      "source": [
        "df1['Precipitation(in)']=df1['Precipitation(in)'].fillna(prmean)"
      ],
      "execution_count": null,
      "outputs": []
    },
    {
      "cell_type": "code",
      "metadata": {
        "id": "rt4Jp35NaPr_"
      },
      "source": [
        "df1.isnull().sum()"
      ],
      "execution_count": null,
      "outputs": []
    },
    {
      "cell_type": "code",
      "metadata": {
        "id": "yD8olrW3ohcm"
      },
      "source": [
        "df1.columns"
      ],
      "execution_count": null,
      "outputs": []
    },
    {
      "cell_type": "code",
      "metadata": {
        "id": "AnqBDo-Xabq5"
      },
      "source": [
        "visMode = df1[\"Visibility(mi)\"].mode()\n",
        "#df1[\"Visibility(mi)\"]=df1[\"Visibility(mi)\"].fillna(visMode)"
      ],
      "execution_count": null,
      "outputs": []
    },
    {
      "cell_type": "code",
      "metadata": {
        "id": "SovJKB6aRv3q"
      },
      "source": [
        "#df1[\"Visibility(mi)\"]=df1[\"Visibility(mi)\"].fillna(visMode)\n",
        "df1['Visibility(mi)'] = df1['Visibility(mi)'].fillna(df1['Visibility(mi)'].mode()[0])\n",
        "df1['Wind_Direction'] = df1['Wind_Direction'].fillna(df1['Wind_Direction'].mode()[0])\n",
        "df1['Weather_Condition'] = df1['Weather_Condition'].fillna(df1['Weather_Condition'].mode()[0])\n",
        "df1['Sunrise_Sunset'] = df1['Sunrise_Sunset'].fillna(df1['Sunrise_Sunset'].mode()[0])"
      ],
      "execution_count": null,
      "outputs": []
    },
    {
      "cell_type": "code",
      "metadata": {
        "id": "j8_RylJsRv3s"
      },
      "source": [
        "df1.drop(['Timezone','Weather_Timestamp', 'Start_Time', 'End_Time', 'ID'], axis = 1, inplace = True)"
      ],
      "execution_count": null,
      "outputs": []
    },
    {
      "cell_type": "code",
      "metadata": {
        "id": "JKeYpHHgVjxs"
      },
      "source": [
        "df1.dropna(axis=0, inplace=True)"
      ],
      "execution_count": null,
      "outputs": []
    },
    {
      "cell_type": "code",
      "metadata": {
        "id": "MwVVMjyWCTX2"
      },
      "source": [
        "df1.isnull().sum()"
      ],
      "execution_count": null,
      "outputs": []
    },
    {
      "cell_type": "code",
      "metadata": {
        "id": "i6y9KNd-Rv3w"
      },
      "source": [
        "df1.columns"
      ],
      "execution_count": null,
      "outputs": []
    },
    {
      "cell_type": "code",
      "metadata": {
        "id": "sKeAhTyrCV3j"
      },
      "source": [
        "from sklearn import preprocessing\n",
        "label_encoder = preprocessing.LabelEncoder()\n",
        "df1['Amenity'] = label_encoder.fit_transform(df1['Amenity'])\n",
        "df1['Bump'] = label_encoder.fit_transform(df1['Bump'])\n",
        "df1['Crossing'] = label_encoder.fit_transform(df1['Crossing'])\n",
        "df1['Give_Way'] = label_encoder.fit_transform(df1['Give_Way'])\n",
        "df1['Junction'] = label_encoder.fit_transform(df1['Junction'])\n",
        "df1['No_Exit'] = label_encoder.fit_transform(df1['No_Exit'])\n",
        "df1['Railway'] = label_encoder.fit_transform(df1['Railway'])\n",
        "df1['Roundabout'] = label_encoder.fit_transform(df1['Roundabout'])\n",
        "df1['Station'] = label_encoder.fit_transform(df1['Station'])\n",
        "df1['Stop'] = label_encoder.fit_transform(df1['Stop'])\n",
        "df1['Traffic_Calming'] = label_encoder.fit_transform(df1['Traffic_Calming'])\n",
        "df1['Traffic_Signal'] = label_encoder.fit_transform(df1['Traffic_Signal'])\n",
        "df1['Turning_Loop'] = label_encoder.fit_transform(df1['Turning_Loop'])\n",
        "df1.head()\n"
      ],
      "execution_count": null,
      "outputs": []
    },
    {
      "cell_type": "code",
      "metadata": {
        "id": "KlUpAk7eRv33"
      },
      "source": [
        "df1['Sunrise_Sunset'] = label_encoder.fit_transform(df1['Sunrise_Sunset'])\n",
        "df1['Weather_Condition'] = label_encoder.fit_transform(df1['Weather_Condition'])\n",
        "df1['Wind_Direction'] = label_encoder.fit_transform(df1['Wind_Direction'])\n",
        "df1['Weekday'] = label_encoder.fit_transform(df1['Weekday'])\n",
        "df1.head()"
      ],
      "execution_count": null,
      "outputs": []
    },
    {
      "cell_type": "code",
      "metadata": {
        "id": "K4tjGrSNRv4G"
      },
      "source": [
        "Y = df1['Severity']"
      ],
      "execution_count": null,
      "outputs": []
    },
    {
      "cell_type": "code",
      "metadata": {
        "id": "qG4Dn3G9Rv4K"
      },
      "source": [
        "X = df1.drop(['Severity'], axis = 1)\n"
      ],
      "execution_count": null,
      "outputs": []
    },
    {
      "cell_type": "code",
      "metadata": {
        "id": "HIUvfAGjRv4N"
      },
      "source": [
        "X.head()"
      ],
      "execution_count": null,
      "outputs": []
    },
    {
      "cell_type": "code",
      "metadata": {
        "id": "8CJbzNxNRv4Q"
      },
      "source": [
        "from sklearn.decomposition import PCA\n",
        "# Make an instance of the Model\n",
        "pca = PCA(.95)\n",
        "pca.fit(X)\n",
        "train_img = pca.transform(X)\n",
        "train = pd.DataFrame(train_img)\n",
        "train.head()"
      ],
      "execution_count": null,
      "outputs": []
    },
    {
      "cell_type": "code",
      "metadata": {
        "id": "6CONdYuRRv4V"
      },
      "source": [
        "train.shape"
      ],
      "execution_count": null,
      "outputs": []
    },
    {
      "cell_type": "code",
      "metadata": {
        "id": "pxWKP4zMRv4c"
      },
      "source": [
        "from sklearn.model_selection import train_test_split\n",
        "X_train, X_test, y_train, y_test = train_test_split(X, Y, test_size=0.2, random_state=42)"
      ],
      "execution_count": null,
      "outputs": []
    },
    {
      "cell_type": "code",
      "metadata": {
        "id": "1CJZjda_Rv4f"
      },
      "source": [
        "from sklearn.preprocessing import StandardScaler\n",
        "scaler = StandardScaler()\n",
        "# Fit on training set only.\n",
        "scaler.fit(X_train)\n",
        "# Apply transform to both the training set and the test set.\n",
        "transform = scaler.transform(X_train)\n",
        "scalar_train = pd.DataFrame(transform)\n",
        "scalar_train.head()"
      ],
      "execution_count": null,
      "outputs": []
    },
    {
      "cell_type": "code",
      "metadata": {
        "id": "mIj4MQXYhiw0"
      },
      "source": [
        "scalert = StandardScaler()\n",
        "# Fit on training set only.\n",
        "scalert.fit(X_test)\n",
        "# Apply transform to both the training set and the test set.\n",
        "transformt = scalert.transform(X_test)\n",
        "#test_img = scaler.transform(test_img)\n",
        "scalar_test = pd.DataFrame(transformt)"
      ],
      "execution_count": null,
      "outputs": []
    },
    {
      "cell_type": "code",
      "metadata": {
        "id": "CT5dEa1scZnt"
      },
      "source": [
        "from sklearn.neural_network import MLPClassifier\n",
        "clf_MLP = MLPClassifier(solver='adam', alpha=0.0001,\n",
        "                    hidden_layer_sizes=(20, 20, 20), random_state=1,max_iter=200,learning_rate_init=0.001)"
      ],
      "execution_count": null,
      "outputs": []
    },
    {
      "cell_type": "code",
      "metadata": {
        "id": "QzeCjc9XgJ6z"
      },
      "source": [
        "clf_MLP.fit(scalar_train, y_train) "
      ],
      "execution_count": null,
      "outputs": []
    },
    {
      "cell_type": "code",
      "metadata": {
        "id": "oQkxTZhOhlm4"
      },
      "source": [
        "y_pred=clf_MLP.predict(scalar_test) "
      ],
      "execution_count": null,
      "outputs": []
    },
    {
      "cell_type": "code",
      "metadata": {
        "id": "hSuXpgHahvA6"
      },
      "source": [
        "clf_MLP.score(scalar_test,y_test)"
      ],
      "execution_count": null,
      "outputs": []
    },
    {
      "cell_type": "code",
      "metadata": {
        "id": "H4jKdllOkg0q"
      },
      "source": [
        "# from sklearn.metrics import confusion_matrix\n",
        "# import seaborn as sns\n",
        "# df_cm = pd.DataFrame(\n",
        "#         confusion_matrix(y_test, y_pred)\n",
        "# )\n",
        "# ax= plt.subplot()\n",
        "# plt.figure(figsize = (4,4))\n",
        "# sns.heatmap(df_cm, annot=True, ax = ax,fmt='d'); #annot=True to annotate cells\n",
        "# ax.set_xlabel('Predicted labels');ax.set_ylabel('True labels'); \n",
        "# ax.set_title('Multi Layer Perceptron');"
      ],
      "execution_count": null,
      "outputs": []
    },
    {
      "cell_type": "code",
      "metadata": {
        "id": "JQF7Y9FBlg4H"
      },
      "source": [
        "clf_MLP1 = MLPClassifier(solver='adam', alpha=0.0001,\n",
        "                    hidden_layer_sizes=(30, 30, 30), random_state=1,max_iter=200,learning_rate_init=0.001)"
      ],
      "execution_count": null,
      "outputs": []
    },
    {
      "cell_type": "code",
      "metadata": {
        "id": "qtIiMTtGvAvy"
      },
      "source": [
        "clf_MLP1.fit(scalar_train, y_train) "
      ],
      "execution_count": null,
      "outputs": []
    },
    {
      "cell_type": "code",
      "metadata": {
        "id": "VsY-E7HfvFvj"
      },
      "source": [
        "clf_MLP1.score(scalar_test,y_test)"
      ],
      "execution_count": null,
      "outputs": []
    },
    {
      "cell_type": "code",
      "metadata": {
        "id": "0ZGI7QfHvLhd"
      },
      "source": [
        "# df_cm = pd.DataFrame(\n",
        "#         confusion_matrix(y_test, y_pred)\n",
        "# )\n",
        "# ax= plt.subplot()\n",
        "# plt.figure(figsize = (4,4))\n",
        "# sns.heatmap(df_cm, annot=True, ax = ax,fmt='d'); #annot=True to annotate cells\n",
        "# ax.set_xlabel('Predicted labels');ax.set_ylabel('True labels'); \n",
        "# ax.set_title('Multi Layer Perceptron');"
      ],
      "execution_count": null,
      "outputs": []
    },
    {
      "cell_type": "code",
      "metadata": {
        "id": "5YS5c1dlsooc"
      },
      "source": [
        "parameter_space = {\n",
        "    'hidden_layer_sizes': [(30,20,10),(20,20,20)],\n",
        "    # 'solver': ['lbfgs','adam'],\n",
        "    # 'alpha': [0.0001,0.05],\n",
        "    'max_iter': [200,300]\n",
        "    # 'learning_rate_init': [0.001,0.005,0.01]\n",
        "}"
      ],
      "execution_count": null,
      "outputs": []
    },
    {
      "cell_type": "code",
      "metadata": {
        "id": "jXpPoHxJuQ1U"
      },
      "source": [
        "mlp = MLPClassifier(solver='adam',alpha=0.0001,learning_rate_init=0.001)"
      ],
      "execution_count": null,
      "outputs": []
    },
    {
      "cell_type": "code",
      "metadata": {
        "id": "WtTWxsSUt_fU"
      },
      "source": [
        "from sklearn.model_selection import GridSearchCV\n",
        "\n",
        "clf = GridSearchCV(mlp, parameter_space, cv=3)\n",
        "clf.fit(scalar_train, y_train)"
      ],
      "execution_count": null,
      "outputs": []
    },
    {
      "cell_type": "code",
      "metadata": {
        "id": "ZeV_dcTGuqvn"
      },
      "source": [
        "# Best paramete set\n",
        "print('Best parameters found:\\n', clf.best_params_)\n",
        "\n",
        "# All results\n",
        "means = clf.cv_results_['mean_test_score']\n",
        "stds = clf.cv_results_['std_test_score']\n",
        "for mean, std, params in zip(means, stds, clf.cv_results_['params']):\n",
        "    print(\"%0.3f (+/-%0.03f) for %r\" % (mean, std * 2, params))"
      ],
      "execution_count": null,
      "outputs": []
    },
    {
      "cell_type": "code",
      "metadata": {
        "id": "AZ75aCm6u7Dc"
      },
      "source": [
        "clf.predict(scalar_test)\n",
        "print('Results on the test set:')\n",
        "print(clf.score(scalar_test,y_test))"
      ],
      "execution_count": null,
      "outputs": []
    },
    {
      "cell_type": "code",
      "metadata": {
        "id": "933HeZy1lNSh"
      },
      "source": [
        "from sklearn.linear_model import LogisticRegression\n",
        "lore = LogisticRegression(random_state=0, solver='lbfgs', multi_class='multinomial').fit(scalar_train, y_train) "
      ],
      "execution_count": null,
      "outputs": []
    },
    {
      "cell_type": "code",
      "metadata": {
        "id": "qZ0NMjTsy1hO"
      },
      "source": [
        "y_pred_lore = lore.predict(scalar_test)"
      ],
      "execution_count": null,
      "outputs": []
    },
    {
      "cell_type": "code",
      "metadata": {
        "id": "rwM40s8GnfjM"
      },
      "source": [
        "lore.score(scalar_train, y_train)"
      ],
      "execution_count": null,
      "outputs": []
    },
    {
      "cell_type": "code",
      "metadata": {
        "id": "QPUwUdnDnrbI"
      },
      "source": [
        "from sklearn.metrics import accuracy_score\n",
        "accuracy_score(y_test, y_pred_lore)"
      ],
      "execution_count": null,
      "outputs": []
    },
    {
      "cell_type": "code",
      "metadata": {
        "id": "BoOwuAmImvhT"
      },
      "source": [
        "from sklearn.tree import DecisionTreeClassifier \n",
        "d_tree = DecisionTreeClassifier(random_state = 120, criterion=\"entropy\", max_depth=4)"
      ],
      "execution_count": null,
      "outputs": []
    },
    {
      "cell_type": "code",
      "metadata": {
        "id": "auMxo2V5m6GD"
      },
      "source": [
        "d_tree = d_tree.fit(scalar_train,y_train)"
      ],
      "execution_count": null,
      "outputs": []
    },
    {
      "cell_type": "code",
      "metadata": {
        "id": "zyGfz35qm8lq"
      },
      "source": [
        "y_pred_d_tree = d_tree.predict(scalar_test)"
      ],
      "execution_count": null,
      "outputs": []
    },
    {
      "cell_type": "code",
      "metadata": {
        "id": "7XT2P2zwnAO8"
      },
      "source": [
        "print(\"Accuracy:\",metrics.accuracy_score(y_test, y_pred_d_tree))"
      ],
      "execution_count": null,
      "outputs": []
    },
    {
      "cell_type": "code",
      "metadata": {
        "id": "Pj1ZQU2KzkM0"
      },
      "source": [
        "from sklearn.ensemble import RandomForestClassifier\n",
        "rafo=RandomForestClassifier(n_estimators=200)"
      ],
      "execution_count": null,
      "outputs": []
    },
    {
      "cell_type": "code",
      "metadata": {
        "id": "sa6LuUbAzvwR"
      },
      "source": [
        "rafo.fit(scalar_train,y_train)"
      ],
      "execution_count": null,
      "outputs": []
    },
    {
      "cell_type": "code",
      "metadata": {
        "id": "O-rNUi7azzZ2"
      },
      "source": [
        "y_pred_rafo=rafo.predict(scalar_test)"
      ],
      "execution_count": null,
      "outputs": []
    },
    {
      "cell_type": "code",
      "metadata": {
        "id": "rOCcI37Zz3Cs"
      },
      "source": [
        "print(\"Accuracy:\",metrics.accuracy_score(y_test, y_pred_rafo))"
      ],
      "execution_count": null,
      "outputs": []
    },
    {
      "cell_type": "code",
      "metadata": {
        "id": "PD6yQW8G0hzy"
      },
      "source": [
        "from sklearn.model_selection import cross_val_score\n",
        "from sklearn.metrics import accuracy_score\n",
        "grid_knears = KNeighborsClassifier()\n",
        "grid_knears.fit(X_train, y_train)\n",
        "y_pred_knn = grid_knears.predict(X_test)\n",
        "training_score_knn = cross_val_score(grid_knears, X_train, y_train, cv=5)\n",
        "test_score_knn = accuracy_score(y_test, y_pred_knn)"
      ],
      "execution_count": null,
      "outputs": []
    },
    {
      "cell_type": "code",
      "metadata": {
        "id": "BCApnQPn1FPe"
      },
      "source": [
        "print(\"Classifiers:  Has a training score of\", round(training_score_knn.mean(), 2) * 100, \"% Training accuracy score\")\n",
        "print(\"Classifiers: Has a test score of\", test_score_knn*100,\"% Testing accuracy score\")"
      ],
      "execution_count": null,
      "outputs": []
    }
  ]
}